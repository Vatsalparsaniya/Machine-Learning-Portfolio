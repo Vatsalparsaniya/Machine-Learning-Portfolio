{
  "nbformat": 4,
  "nbformat_minor": 0,
  "metadata": {
    "colab": {
      "name": " Fashion_minist.ipynb",
      "provenance": [],
      "collapsed_sections": [],
      "authorship_tag": "ABX9TyOKYvvapgCqYRNjRErmJRkj",
      "include_colab_link": true
    },
    "kernelspec": {
      "name": "python3",
      "display_name": "Python 3"
    }
  },
  "cells": [
    {
      "cell_type": "markdown",
      "metadata": {
        "id": "view-in-github",
        "colab_type": "text"
      },
      "source": [
        "<a href=\"https://colab.research.google.com/github/Vatsalparsaniya/Deep_Learning/blob/master/Fashion_minist.ipynb\" target=\"_parent\"><img src=\"https://colab.research.google.com/assets/colab-badge.svg\" alt=\"Open In Colab\"/></a>"
      ]
    },
    {
      "cell_type": "code",
      "metadata": {
        "id": "TeDzk8IaCdQq",
        "colab_type": "code",
        "colab": {
          "base_uri": "https://localhost:8080/",
          "height": 1000
        },
        "outputId": "2986e719-355e-480d-bb87-e4db48fd4c60"
      },
      "source": [
        "# To determine which version you're using:\n",
        "!pip show tensorflow\n",
        "\n",
        "# For the current version: \n",
        "!pip install --upgrade tensorflow\n",
        "\n",
        "# For a specific version:\n",
        "# !pip install tensorflow==2.1.0\n",
        "\n",
        "# For the latest nightly build:\n",
        "# !pip install tf-nightly"
      ],
      "execution_count": 2,
      "outputs": [
        {
          "output_type": "stream",
          "text": [
            "Name: tensorflow\n",
            "Version: 2.0.0\n",
            "Summary: TensorFlow is an open source machine learning framework for everyone.\n",
            "Home-page: https://www.tensorflow.org/\n",
            "Author: Google Inc.\n",
            "Author-email: packages@tensorflow.org\n",
            "License: Apache 2.0\n",
            "Location: /usr/local/lib/python3.6/dist-packages\n",
            "Requires: astor, keras-applications, gast, keras-preprocessing, google-pasta, opt-einsum, tensorflow-estimator, absl-py, wrapt, wheel, grpcio, protobuf, termcolor, six, numpy, tensorboard\n",
            "Required-by: stable-baselines, magenta, fancyimpute\n",
            "Collecting tensorflow\n",
            "  Using cached https://files.pythonhosted.org/packages/85/d4/c0cd1057b331bc38b65478302114194bd8e1b9c2bbc06e300935c0e93d90/tensorflow-2.1.0-cp36-cp36m-manylinux2010_x86_64.whl\n",
            "Requirement already satisfied, skipping upgrade: keras-preprocessing>=1.1.0 in /usr/local/lib/python3.6/dist-packages (from tensorflow) (1.1.0)\n",
            "Requirement already satisfied, skipping upgrade: opt-einsum>=2.3.2 in /usr/local/lib/python3.6/dist-packages (from tensorflow) (3.1.0)\n",
            "Requirement already satisfied, skipping upgrade: termcolor>=1.1.0 in /usr/local/lib/python3.6/dist-packages (from tensorflow) (1.1.0)\n",
            "Requirement already satisfied, skipping upgrade: wrapt>=1.11.1 in /usr/local/lib/python3.6/dist-packages (from tensorflow) (1.11.2)\n",
            "Requirement already satisfied, skipping upgrade: grpcio>=1.8.6 in /usr/local/lib/python3.6/dist-packages (from tensorflow) (1.15.0)\n",
            "Requirement already satisfied, skipping upgrade: astor>=0.6.0 in /usr/local/lib/python3.6/dist-packages (from tensorflow) (0.8.1)\n",
            "Requirement already satisfied, skipping upgrade: absl-py>=0.7.0 in /usr/local/lib/python3.6/dist-packages (from tensorflow) (0.9.0)\n",
            "Requirement already satisfied, skipping upgrade: gast==0.2.2 in /usr/local/lib/python3.6/dist-packages (from tensorflow) (0.2.2)\n",
            "Requirement already satisfied, skipping upgrade: six>=1.12.0 in /usr/local/lib/python3.6/dist-packages (from tensorflow) (1.12.0)\n",
            "Requirement already satisfied, skipping upgrade: wheel>=0.26; python_version >= \"3\" in /usr/local/lib/python3.6/dist-packages (from tensorflow) (0.33.6)\n",
            "Requirement already satisfied, skipping upgrade: scipy==1.4.1; python_version >= \"3\" in /usr/local/lib/python3.6/dist-packages (from tensorflow) (1.4.1)\n",
            "Collecting tensorflow-estimator<2.2.0,>=2.1.0rc0\n",
            "  Using cached https://files.pythonhosted.org/packages/18/90/b77c328a1304437ab1310b463e533fa7689f4bfc41549593056d812fab8e/tensorflow_estimator-2.1.0-py2.py3-none-any.whl\n",
            "Requirement already satisfied, skipping upgrade: google-pasta>=0.1.6 in /usr/local/lib/python3.6/dist-packages (from tensorflow) (0.1.8)\n",
            "Collecting tensorboard<2.2.0,>=2.1.0\n",
            "  Using cached https://files.pythonhosted.org/packages/40/23/53ffe290341cd0855d595b0a2e7485932f473798af173bbe3a584b99bb06/tensorboard-2.1.0-py3-none-any.whl\n",
            "Requirement already satisfied, skipping upgrade: protobuf>=3.8.0 in /usr/local/lib/python3.6/dist-packages (from tensorflow) (3.10.0)\n",
            "Requirement already satisfied, skipping upgrade: numpy<2.0,>=1.16.0 in /usr/local/lib/python3.6/dist-packages (from tensorflow) (1.17.5)\n",
            "Requirement already satisfied, skipping upgrade: keras-applications>=1.0.8 in /usr/local/lib/python3.6/dist-packages (from tensorflow) (1.0.8)\n",
            "Requirement already satisfied, skipping upgrade: werkzeug>=0.11.15 in /usr/local/lib/python3.6/dist-packages (from tensorboard<2.2.0,>=2.1.0->tensorflow) (0.16.0)\n",
            "Requirement already satisfied, skipping upgrade: markdown>=2.6.8 in /usr/local/lib/python3.6/dist-packages (from tensorboard<2.2.0,>=2.1.0->tensorflow) (3.1.1)\n",
            "Requirement already satisfied, skipping upgrade: setuptools>=41.0.0 in /usr/local/lib/python3.6/dist-packages (from tensorboard<2.2.0,>=2.1.0->tensorflow) (42.0.2)\n",
            "Requirement already satisfied, skipping upgrade: google-auth-oauthlib<0.5,>=0.4.1 in /usr/local/lib/python3.6/dist-packages (from tensorboard<2.2.0,>=2.1.0->tensorflow) (0.4.1)\n",
            "Requirement already satisfied, skipping upgrade: google-auth<2,>=1.6.3 in /usr/local/lib/python3.6/dist-packages (from tensorboard<2.2.0,>=2.1.0->tensorflow) (1.10.2)\n",
            "Requirement already satisfied, skipping upgrade: requests<3,>=2.21.0 in /usr/local/lib/python3.6/dist-packages (from tensorboard<2.2.0,>=2.1.0->tensorflow) (2.21.0)\n",
            "Requirement already satisfied, skipping upgrade: h5py in /usr/local/lib/python3.6/dist-packages (from keras-applications>=1.0.8->tensorflow) (2.8.0)\n",
            "Requirement already satisfied, skipping upgrade: requests-oauthlib>=0.7.0 in /usr/local/lib/python3.6/dist-packages (from google-auth-oauthlib<0.5,>=0.4.1->tensorboard<2.2.0,>=2.1.0->tensorflow) (1.3.0)\n",
            "Requirement already satisfied, skipping upgrade: cachetools<5.0,>=2.0.0 in /usr/local/lib/python3.6/dist-packages (from google-auth<2,>=1.6.3->tensorboard<2.2.0,>=2.1.0->tensorflow) (4.0.0)\n",
            "Requirement already satisfied, skipping upgrade: pyasn1-modules>=0.2.1 in /usr/local/lib/python3.6/dist-packages (from google-auth<2,>=1.6.3->tensorboard<2.2.0,>=2.1.0->tensorflow) (0.2.7)\n",
            "Requirement already satisfied, skipping upgrade: rsa<4.1,>=3.1.4 in /usr/local/lib/python3.6/dist-packages (from google-auth<2,>=1.6.3->tensorboard<2.2.0,>=2.1.0->tensorflow) (4.0)\n",
            "Requirement already satisfied, skipping upgrade: certifi>=2017.4.17 in /usr/local/lib/python3.6/dist-packages (from requests<3,>=2.21.0->tensorboard<2.2.0,>=2.1.0->tensorflow) (2019.11.28)\n",
            "Requirement already satisfied, skipping upgrade: chardet<3.1.0,>=3.0.2 in /usr/local/lib/python3.6/dist-packages (from requests<3,>=2.21.0->tensorboard<2.2.0,>=2.1.0->tensorflow) (3.0.4)\n",
            "Requirement already satisfied, skipping upgrade: idna<2.9,>=2.5 in /usr/local/lib/python3.6/dist-packages (from requests<3,>=2.21.0->tensorboard<2.2.0,>=2.1.0->tensorflow) (2.8)\n",
            "Requirement already satisfied, skipping upgrade: urllib3<1.25,>=1.21.1 in /usr/local/lib/python3.6/dist-packages (from requests<3,>=2.21.0->tensorboard<2.2.0,>=2.1.0->tensorflow) (1.24.3)\n",
            "Requirement already satisfied, skipping upgrade: oauthlib>=3.0.0 in /usr/local/lib/python3.6/dist-packages (from requests-oauthlib>=0.7.0->google-auth-oauthlib<0.5,>=0.4.1->tensorboard<2.2.0,>=2.1.0->tensorflow) (3.1.0)\n",
            "Requirement already satisfied, skipping upgrade: pyasn1<0.5.0,>=0.4.6 in /usr/local/lib/python3.6/dist-packages (from pyasn1-modules>=0.2.1->google-auth<2,>=1.6.3->tensorboard<2.2.0,>=2.1.0->tensorflow) (0.4.8)\n",
            "\u001b[31mERROR: tensorboard 2.1.0 has requirement grpcio>=1.24.3, but you'll have grpcio 1.15.0 which is incompatible.\u001b[0m\n",
            "Installing collected packages: tensorflow-estimator, tensorboard, tensorflow\n",
            "  Found existing installation: tensorflow-estimator 2.0.1\n",
            "    Uninstalling tensorflow-estimator-2.0.1:\n",
            "      Successfully uninstalled tensorflow-estimator-2.0.1\n",
            "  Found existing installation: tensorboard 2.0.2\n",
            "    Uninstalling tensorboard-2.0.2:\n",
            "      Successfully uninstalled tensorboard-2.0.2\n",
            "  Found existing installation: tensorflow 2.0.0\n",
            "    Uninstalling tensorflow-2.0.0:\n",
            "      Successfully uninstalled tensorflow-2.0.0\n",
            "Successfully installed tensorboard-2.1.0 tensorflow-2.1.0 tensorflow-estimator-2.1.0\n"
          ],
          "name": "stdout"
        }
      ]
    },
    {
      "cell_type": "code",
      "metadata": {
        "id": "_JS5OONOCuWc",
        "colab_type": "code",
        "colab": {}
      },
      "source": [
        "import tensorflow as tf\n",
        "from tensorflow import keras\n",
        "\n",
        "import numpy as np\n",
        "import matplotlib.pyplot as plt"
      ],
      "execution_count": 0,
      "outputs": []
    },
    {
      "cell_type": "code",
      "metadata": {
        "id": "pafU4HMmGZAJ",
        "colab_type": "code",
        "colab": {
          "base_uri": "https://localhost:8080/",
          "height": 35
        },
        "outputId": "59d72fbb-62c8-462a-8cff-1ffd5abfb787"
      },
      "source": [
        "tf.__version__"
      ],
      "execution_count": 4,
      "outputs": [
        {
          "output_type": "execute_result",
          "data": {
            "text/plain": [
              "'2.1.0'"
            ]
          },
          "metadata": {
            "tags": []
          },
          "execution_count": 4
        }
      ]
    },
    {
      "cell_type": "markdown",
      "metadata": {
        "id": "aao006ssE2h9",
        "colab_type": "text"
      },
      "source": [
        "Import database"
      ]
    },
    {
      "cell_type": "code",
      "metadata": {
        "id": "DnIueKfGE8P7",
        "colab_type": "code",
        "colab": {}
      },
      "source": [
        "minist_dataset = keras.datasets.fashion_mnist\n",
        "(train_img , train_labels),(test_img,test_labels) = minist_dataset.load_data()"
      ],
      "execution_count": 0,
      "outputs": []
    },
    {
      "cell_type": "code",
      "metadata": {
        "id": "Wo3s-wt4HKeI",
        "colab_type": "code",
        "colab": {
          "base_uri": "https://localhost:8080/",
          "height": 35
        },
        "outputId": "57cdc79d-b281-47a4-afbc-9032155f5f8e"
      },
      "source": [
        "np.unique(train_labels)"
      ],
      "execution_count": 6,
      "outputs": [
        {
          "output_type": "execute_result",
          "data": {
            "text/plain": [
              "array([0, 1, 2, 3, 4, 5, 6, 7, 8, 9], dtype=uint8)"
            ]
          },
          "metadata": {
            "tags": []
          },
          "execution_count": 6
        }
      ]
    },
    {
      "cell_type": "markdown",
      "metadata": {
        "id": "NEBx5V8vHgu6",
        "colab_type": "text"
      },
      "source": [
        "there are 10 classes in classification"
      ]
    },
    {
      "cell_type": "code",
      "metadata": {
        "id": "5x6x9j50HpyM",
        "colab_type": "code",
        "colab": {
          "base_uri": "https://localhost:8080/",
          "height": 53
        },
        "outputId": "bce29ca2-76e0-4113-d738-be3e3e334789"
      },
      "source": [
        "print(\"train_labels : \", len(train_labels))\n",
        "print(\"test_labels : \", len(test_labels))"
      ],
      "execution_count": 7,
      "outputs": [
        {
          "output_type": "stream",
          "text": [
            "train_labels :  60000\n",
            "test_labels :  10000\n"
          ],
          "name": "stdout"
        }
      ]
    },
    {
      "cell_type": "code",
      "metadata": {
        "id": "aG-na5K-IO25",
        "colab_type": "code",
        "colab": {
          "base_uri": "https://localhost:8080/",
          "height": 53
        },
        "outputId": "83fd232a-bbe7-4f54-e961-a60f72ad24ec"
      },
      "source": [
        "print(\"train img shape : \",train_img.shape)\n",
        "print(\"test img shape : \",test_img.shape)"
      ],
      "execution_count": 8,
      "outputs": [
        {
          "output_type": "stream",
          "text": [
            "train img shape :  (60000, 28, 28)\n",
            "test img shape :  (10000, 28, 28)\n"
          ],
          "name": "stdout"
        }
      ]
    },
    {
      "cell_type": "markdown",
      "metadata": {
        "id": "rMajAETnH6mE",
        "colab_type": "text"
      },
      "source": [
        "now we need co connect each class to label name (according to misnist dacument classes are given below)"
      ]
    },
    {
      "cell_type": "code",
      "metadata": {
        "id": "Stpcz2RyIHJf",
        "colab_type": "code",
        "colab": {}
      },
      "source": [
        "class_names = ['T-shirt/top', 'Trouser', 'Pullover', 'Dress', 'Coat','Sandal', 'Shirt', 'Sneaker', 'Bag', 'Ankle boot']"
      ],
      "execution_count": 0,
      "outputs": []
    },
    {
      "cell_type": "markdown",
      "metadata": {
        "id": "AZ9X0j8TIL6r",
        "colab_type": "text"
      },
      "source": [
        "show image"
      ]
    },
    {
      "cell_type": "code",
      "metadata": {
        "id": "JnlFrebHJM4u",
        "colab_type": "code",
        "colab": {
          "base_uri": "https://localhost:8080/",
          "height": 279
        },
        "outputId": "e8e260a9-1f52-49a3-c073-38627ca0352b"
      },
      "source": [
        "plt.figure()\n",
        "plt.imshow(test_img[10])\n",
        "plt.xlabel(str(test_labels[10])+\" \"+str(class_names[test_labels[10]]))\n",
        "plt.show()"
      ],
      "execution_count": 10,
      "outputs": [
        {
          "output_type": "display_data",
          "data": {
            "image/png": "[encoded data removed]",
            "text/plain": [
              "<Figure size 432x288 with 1 Axes>"
            ]
          },
          "metadata": {
            "tags": []
          }
        }
      ]
    },
    {
      "cell_type": "code",
      "metadata": {
        "id": "siZHCSDJJwN_",
        "colab_type": "code",
        "colab": {}
      },
      "source": [
        "train_img = train_img / 255.0\n",
        "test_img = test_img / 255.0"
      ],
      "execution_count": 0,
      "outputs": []
    },
    {
      "cell_type": "code",
      "metadata": {
        "id": "4VGp7Ud9KFKF",
        "colab_type": "code",
        "colab": {
          "base_uri": "https://localhost:8080/",
          "height": 279
        },
        "outputId": "8355cc19-41c0-44ea-f863-c2618d529ec1"
      },
      "source": [
        "plt.figure()\n",
        "plt.imshow(test_img[10],cmap= plt.cm.binary)\n",
        "plt.xlabel(str(test_labels[10])+\" \"+str(class_names[test_labels[10]]))\n",
        "plt.show()"
      ],
      "execution_count": 12,
      "outputs": [
        {
          "output_type": "display_data",
          "data": {
            "image/png": "[encoded data removed]",
            "text/plain": [
              "<Figure size 432x288 with 1 Axes>"
            ]
          },
          "metadata": {
            "tags": []
          }
        }
      ]
    },
    {
      "cell_type": "markdown",
      "metadata": {
        "id": "rMGDO5lhKbgq",
        "colab_type": "text"
      },
      "source": [
        "Showing random 20 images with labels"
      ]
    },
    {
      "cell_type": "code",
      "metadata": {
        "id": "ZbL2Y6pQKaeb",
        "colab_type": "code",
        "colab": {
          "base_uri": "https://localhost:8080/",
          "height": 860
        },
        "outputId": "ff8e75e1-4952-4a8d-845f-78d74f368861"
      },
      "source": [
        "indexes = np.random.randint(low=0, high=60000, size=20)\n",
        "plt.figure(figsize=(15,15))\n",
        "for i in range(len(indexes)):\n",
        "  plt.subplot(5,4,i+1)\n",
        "  plt.xticks([])\n",
        "  plt.yticks([])\n",
        "  plt.imshow(train_img[indexes[i]], cmap=plt.cm.binary)\n",
        "  plt.xlabel(class_names[train_labels[indexes[i]]])\n",
        "plt.show()"
      ],
      "execution_count": 13,
      "outputs": [
        {
          "output_type": "display_data",
          "data": {
            "image/png": "[encoded data removed]",
            "text/plain": [
              "<Figure size 1080x1080 with 20 Axes>"
            ]
          },
          "metadata": {
            "tags": []
          }
        }
      ]
    },
    {
      "cell_type": "code",
      "metadata": {
        "id": "wyNCl32LMrls",
        "colab_type": "code",
        "colab": {}
      },
      "source": [
        "model = keras.Sequential([\n",
        "    keras.layers.Flatten(input_shape=(28, 28)),  # transform image 28X28 to one-dimensional array = 784 \n",
        "    keras.layers.Dense(128,\n",
        "                       activation='relu'),  #  fully connected layer with 128 nodes or nurons with activation function relu\n",
        "    keras.layers.Dense(10, \n",
        "                       activation='softmax') # fully connected layer with 10 nodes with activation function softmax , each node contains probablity\n",
        "])"
      ],
      "execution_count": 0,
      "outputs": []
    },
    {
      "cell_type": "code",
      "metadata": {
        "id": "ENL3ZNJuWaOW",
        "colab_type": "code",
        "colab": {}
      },
      "source": [
        "model.compile(optimizer='adam',                        # Optimizer : This is how the model is updated based on the data it sees and its loss function.\n",
        "              loss='sparse_categorical_crossentropy',  # Loss function : This measures how accurate the model is during training.\n",
        "              metrics=['accuracy'])                    # Metrics —Used to monitor the training and testing steps. The following example uses accuracy"
      ],
      "execution_count": 0,
      "outputs": []
    },
    {
      "cell_type": "code",
      "metadata": {
        "id": "Y8LfsejqXCty",
        "colab_type": "code",
        "colab": {
          "base_uri": "https://localhost:8080/",
          "height": 417
        },
        "outputId": "2f2cd49c-5963-41ba-f33d-ce47acbccfc2"
      },
      "source": [
        "model.fit(train_img, train_labels, epochs=10)"
      ],
      "execution_count": 16,
      "outputs": [
        {
          "output_type": "stream",
          "text": [
            "Train on 60000 samples\n",
            "Epoch 1/10\n",
            "60000/60000 [==============================] - 5s 83us/sample - loss: 0.4961 - accuracy: 0.8261\n",
            "Epoch 2/10\n",
            "60000/60000 [==============================] - 5s 79us/sample - loss: 0.3775 - accuracy: 0.8631\n",
            "Epoch 3/10\n",
            "60000/60000 [==============================] - 5s 79us/sample - loss: 0.3376 - accuracy: 0.8764\n",
            "Epoch 4/10\n",
            "60000/60000 [==============================] - 5s 78us/sample - loss: 0.3120 - accuracy: 0.8854\n",
            "Epoch 5/10\n",
            "60000/60000 [==============================] - 4s 75us/sample - loss: 0.2975 - accuracy: 0.8898\n",
            "Epoch 6/10\n",
            "60000/60000 [==============================] - 5s 77us/sample - loss: 0.2812 - accuracy: 0.8968\n",
            "Epoch 7/10\n",
            "60000/60000 [==============================] - 5s 77us/sample - loss: 0.2677 - accuracy: 0.9012\n",
            "Epoch 8/10\n",
            "60000/60000 [==============================] - 5s 76us/sample - loss: 0.2586 - accuracy: 0.9034\n",
            "Epoch 9/10\n",
            "60000/60000 [==============================] - 5s 76us/sample - loss: 0.2499 - accuracy: 0.9064\n",
            "Epoch 10/10\n",
            "60000/60000 [==============================] - 5s 77us/sample - loss: 0.2386 - accuracy: 0.9106\n"
          ],
          "name": "stdout"
        },
        {
          "output_type": "execute_result",
          "data": {
            "text/plain": [
              "<tensorflow.python.keras.callbacks.History at 0x7f34070e9748>"
            ]
          },
          "metadata": {
            "tags": []
          },
          "execution_count": 16
        }
      ]
    },
    {
      "cell_type": "markdown",
      "metadata": {
        "id": "ktivDxvHXhcz",
        "colab_type": "text"
      },
      "source": [
        "accuracy: 0.9099"
      ]
    },
    {
      "cell_type": "code",
      "metadata": {
        "id": "2JJ_ZUhTXdmA",
        "colab_type": "code",
        "colab": {
          "base_uri": "https://localhost:8080/",
          "height": 72
        },
        "outputId": "f97bfbff-a843-49b3-bd1c-8b09d6c68e95"
      },
      "source": [
        "test_loss , test_acc = model.evaluate(test_img,test_labels)\n",
        "print(\"test_acc : \",test_acc)\n",
        "print(\"test_loss : \", test_loss)"
      ],
      "execution_count": 17,
      "outputs": [
        {
          "output_type": "stream",
          "text": [
            "10000/10000 [==============================] - 1s 52us/sample - loss: 0.3316 - accuracy: 0.8823\n",
            "test_acc :  0.8823\n",
            "test_loss :  0.3315833214998245\n"
          ],
          "name": "stdout"
        }
      ]
    },
    {
      "cell_type": "markdown",
      "metadata": {
        "id": "Uic87iSbYLDu",
        "colab_type": "text"
      },
      "source": [
        "test_acc :  0.8862"
      ]
    },
    {
      "cell_type": "markdown",
      "metadata": {
        "id": "uZfdS4AjYl47",
        "colab_type": "text"
      },
      "source": [
        "Make **predictions**"
      ]
    },
    {
      "cell_type": "code",
      "metadata": {
        "id": "rFuKGZinYMHV",
        "colab_type": "code",
        "colab": {
          "base_uri": "https://localhost:8080/",
          "height": 1000
        },
        "outputId": "2d524141-6065-4373-b84e-09892d68b38f"
      },
      "source": [
        "prediction = model.predict(test_img[0:100])\n",
        "print(prediction)"
      ],
      "execution_count": 36,
      "outputs": [
        {
          "output_type": "stream",
          "text": [
            "[[8.65296741e-08 6.60527270e-14 2.94498703e-10 2.43667291e-11\n",
            "  3.50640583e-08 8.52024168e-05 1.74471804e-09 2.11643730e-03\n",
            "  5.90328497e-09 9.97798324e-01]\n",
            " [6.43283201e-05 1.23605485e-14 9.98279810e-01 1.51207588e-11\n",
            "  1.34197099e-03 1.36578853e-15 3.13901197e-04 1.66173657e-18\n",
            "  1.07154474e-09 1.22073326e-12]\n",
            " [1.07703076e-10 1.00000000e+00 3.17315550e-14 7.45996487e-10\n",
            "  8.15281696e-12 3.92572031e-15 6.80506389e-12 4.08021863e-23\n",
            "  1.21055408e-15 8.99491465e-22]\n",
            " [2.46145593e-08 9.99998331e-01 2.32875108e-10 1.68040265e-06\n",
            "  3.28908167e-09 1.99909412e-11 1.70683254e-08 3.05154186e-18\n",
            "  3.38236232e-12 1.01506377e-16]\n",
            " [1.03303388e-01 6.53585994e-06 3.01840529e-02 1.59101561e-03\n",
            "  3.38301286e-02 1.48089148e-05 8.30939114e-01 1.50141073e-08\n",
            "  1.30592351e-04 3.31311128e-07]\n",
            " [1.74749232e-07 9.99999762e-01 2.35439890e-10 4.87729359e-08\n",
            "  4.35206582e-09 1.76789208e-11 3.32109309e-08 3.13929808e-18\n",
            "  2.63890607e-13 4.55983988e-16]\n",
            " [2.19796766e-06 5.11137763e-08 5.14904619e-04 1.28832494e-06\n",
            "  9.94081438e-01 3.33041550e-09 5.40006347e-03 1.77923735e-11\n",
            "  4.39358966e-10 8.41088144e-10]\n",
            " [5.64327547e-06 3.84901749e-10 1.20316655e-03 3.67214943e-06\n",
            "  3.39413136e-02 4.31794288e-11 9.64846075e-01 2.08214090e-09\n",
            "  8.79787052e-08 4.50935955e-09]\n",
            " [4.54911555e-04 1.95808236e-09 2.23724982e-07 1.12096088e-09\n",
            "  1.01728279e-08 9.99458253e-01 1.06267942e-06 6.73114337e-05\n",
            "  1.82489512e-05 3.60557664e-08]\n",
            " [1.79807785e-06 8.82362725e-11 3.19415355e-10 9.53894949e-13\n",
            "  5.12202650e-12 1.32870424e-04 1.04155413e-08 9.99845386e-01\n",
            "  3.19940661e-08 1.98838898e-05]\n",
            " [2.01728653e-05 5.72145609e-07 4.60786484e-02 3.55956908e-09\n",
            "  8.91274869e-01 9.05184885e-11 6.26251623e-02 6.16816459e-11\n",
            "  4.06009582e-09 5.15384215e-07]\n",
            " [2.64334517e-06 4.81534214e-12 8.74844019e-09 1.42042766e-10\n",
            "  3.22189544e-06 9.99892712e-01 1.48293282e-07 6.40130820e-05\n",
            "  3.64673447e-08 3.71145179e-05]\n",
            " [2.03920749e-07 4.68823114e-12 9.70918457e-10 6.32008595e-12\n",
            "  8.69365080e-10 9.38398004e-01 9.81240156e-09 5.94941042e-02\n",
            "  2.10764445e-03 7.15809989e-08]\n",
            " [3.02936183e-04 9.63553600e-03 1.04668587e-04 9.88876164e-01\n",
            "  2.49449833e-04 1.30531259e-06 3.23483255e-04 1.46754622e-10\n",
            "  5.01634553e-04 4.73673799e-06]\n",
            " [2.24375690e-05 5.56020268e-07 2.39187822e-01 1.07338972e-04\n",
            "  7.58953333e-01 1.11373957e-13 1.00958522e-03 8.50579416e-12\n",
            "  7.18927127e-04 4.50116211e-09]\n",
            " [8.95706265e-08 9.99973893e-01 3.44108297e-09 2.50584671e-05\n",
            "  7.57110911e-07 3.88598070e-10 1.86009800e-07 1.27910329e-15\n",
            "  6.18189366e-09 2.21311598e-12]\n",
            " [2.59414874e-03 4.83193730e-07 9.77830887e-01 4.86809131e-06\n",
            "  6.36708550e-03 1.27317756e-09 1.31991114e-02 2.17464227e-10\n",
            "  3.33039816e-06 3.61003814e-08]\n",
            " [2.50568206e-04 1.84912052e-09 6.59419060e-01 1.38346411e-06\n",
            "  2.81934977e-01 8.44818247e-13 5.83415031e-02 3.35202109e-11\n",
            "  5.24972565e-05 1.64285865e-08]\n",
            " [4.61441005e-07 1.22094435e-09 6.79466893e-07 1.05444675e-09\n",
            "  9.66050138e-08 1.85343356e-06 2.14205386e-07 1.51329886e-07\n",
            "  9.99996543e-01 1.01866000e-08]\n",
            " [9.14672494e-01 6.98869997e-07 7.74092274e-04 1.29419332e-03\n",
            "  2.93117628e-05 7.03358527e-09 8.32287148e-02 4.15329404e-17\n",
            "  4.37026500e-07 2.55894528e-10]\n",
            " [4.30223793e-02 2.02135369e-02 8.76538455e-01 2.51816778e-06\n",
            "  3.79308537e-02 1.38964538e-07 2.21259538e-02 8.42091197e-08\n",
            "  1.65921228e-04 1.61184474e-07]\n",
            " [5.98296538e-07 1.41808527e-11 1.98657002e-09 7.67879087e-13\n",
            "  1.54268687e-09 8.71874034e-01 5.19013703e-08 1.28003582e-01\n",
            "  5.72825286e-07 1.21165278e-04]\n",
            " [2.19416374e-09 3.02410440e-13 1.58269405e-11 1.24592903e-12\n",
            "  5.52542734e-12 3.13472665e-05 1.42849343e-10 9.99962687e-01\n",
            "  1.15539489e-08 5.99160967e-06]\n",
            " [5.20018784e-06 3.05454481e-11 1.16794729e-09 4.25243105e-11\n",
            "  1.33767423e-06 5.87887585e-01 6.15472402e-07 4.75243926e-02\n",
            "  3.26262193e-06 3.64577591e-01]\n",
            " [7.79884246e-09 1.00000000e+00 2.20067298e-11 5.25288257e-08\n",
            "  7.71176942e-11 5.88242942e-13 6.94366786e-11 4.53113448e-20\n",
            "  3.23715729e-12 5.82386798e-19]\n",
            " [1.86364062e-03 4.22984442e-07 6.79303885e-01 8.71239099e-05\n",
            "  1.20083123e-01 1.11697878e-08 1.98654354e-01 1.36955896e-08\n",
            "  7.17814601e-06 2.41422441e-07]\n",
            " [1.22680967e-05 1.27837456e-08 6.43802341e-03 2.16918561e-05\n",
            "  2.39046648e-01 3.46045718e-12 7.54479349e-01 1.22024118e-11\n",
            "  1.93232154e-06 9.68785230e-09]\n",
            " [7.59592593e-01 1.34302182e-02 9.51866095e-05 1.73524562e-02\n",
            "  1.92806852e-04 2.82689760e-09 2.09335223e-01 3.22074398e-12\n",
            "  5.06323488e-07 1.02070555e-06]\n",
            " [4.33162661e-09 9.11848791e-11 6.84448054e-11 2.99208491e-10\n",
            "  2.21983230e-11 9.05954312e-06 1.27294945e-11 2.09272150e-02\n",
            "  6.14212348e-10 9.79063690e-01]\n",
            " [1.26209101e-02 1.72671396e-03 2.88718008e-02 4.58622128e-01\n",
            "  4.14003730e-01 2.27234104e-05 7.57498592e-02 1.69534474e-06\n",
            "  8.22112430e-03 1.59331132e-04]\n",
            " [6.34847869e-11 2.01451789e-12 1.33367994e-13 8.69575679e-13\n",
            "  7.86322136e-12 8.48906501e-11 1.04852845e-12 2.06542644e-10\n",
            "  1.00000000e+00 1.33954414e-12]\n",
            " [6.83384201e-07 3.12869170e-13 8.99483954e-09 8.38705549e-09\n",
            "  2.76859055e-06 4.95417529e-09 4.14801526e-09 3.01303010e-10\n",
            "  9.99996543e-01 5.16442466e-13]\n",
            " [6.63823099e-04 4.83940206e-02 5.61189590e-05 9.48855877e-01\n",
            "  9.37216042e-04 4.14772730e-05 3.40742146e-04 6.56932571e-08\n",
            "  6.97038718e-04 1.35623059e-05]\n",
            " [8.07648525e-03 5.64930146e-04 1.00654729e-01 8.33459675e-01\n",
            "  3.60623449e-02 1.10516697e-03 1.35239735e-02 5.30897104e-08\n",
            "  6.53951662e-03 1.31074767e-05]\n",
            " [4.18120649e-10 7.01935438e-19 7.51192619e-13 3.85420049e-14\n",
            "  3.57086294e-09 1.74217758e-11 1.73564857e-13 5.41697221e-15\n",
            "  1.00000000e+00 4.83224212e-21]\n",
            " [9.79612529e-01 4.31268381e-06 4.47968981e-04 9.37704463e-05\n",
            "  2.96382223e-05 1.24044700e-05 1.97975878e-02 1.28575241e-11\n",
            "  1.64506650e-06 8.69663523e-08]\n",
            " [8.97514383e-06 1.55414632e-08 5.65372140e-08 9.65740377e-10\n",
            "  3.00569281e-09 4.49589697e-06 4.95088784e-07 9.99980092e-01\n",
            "  3.23499512e-06 2.59256353e-06]\n",
            " [8.31516081e-05 4.44764003e-09 2.00088095e-07 1.27366828e-08\n",
            "  4.43608599e-08 9.99553740e-01 2.29019474e-06 3.53489508e-04\n",
            "  5.22282153e-06 1.79678557e-06]\n",
            " [6.89825299e-07 3.13963997e-13 3.41905358e-11 5.09306300e-15\n",
            "  7.61640317e-13 4.90775237e-05 2.04033546e-09 9.99949694e-01\n",
            "  4.27638397e-10 5.09589199e-07]\n",
            " [3.29950395e-13 9.52448569e-15 1.95415498e-15 6.37368830e-15\n",
            "  5.90156018e-15 3.97697413e-08 6.20420347e-16 8.98053841e-05\n",
            "  8.88653859e-15 9.99910116e-01]\n",
            " [6.68073475e-01 3.68658675e-06 4.01855104e-05 4.89280850e-04\n",
            "  1.82001168e-04 3.19659765e-09 3.31207216e-01 4.11910530e-14\n",
            "  4.05758192e-06 6.44790532e-08]\n",
            " [2.20355539e-10 1.00000000e+00 1.24995136e-11 2.71043241e-08\n",
            "  3.40564382e-10 3.16931789e-12 1.28051666e-10 1.15337784e-18\n",
            "  9.60947684e-13 9.21021341e-17]\n",
            " [1.84448630e-01 6.59095682e-03 3.69647960e-03 1.19254284e-01\n",
            "  3.50739881e-02 2.19114114e-08 6.50128603e-01 3.07163361e-09\n",
            "  8.06089665e-04 9.58153009e-07]\n",
            " [7.44375868e-08 1.52631810e-10 2.24769897e-10 7.14697856e-09\n",
            "  6.80599466e-10 1.03421871e-05 2.66165770e-11 8.32912564e-01\n",
            "  1.32852531e-11 1.67076990e-01]\n",
            " [1.17251053e-04 3.10983879e-08 1.26155205e-02 4.40162839e-04\n",
            "  1.23384997e-01 6.48560199e-12 8.63429606e-01 1.80538987e-11\n",
            "  1.24385015e-05 5.84123017e-09]\n",
            " [1.57392751e-05 8.31481248e-06 4.48556466e-06 2.93225894e-05\n",
            "  1.17277602e-06 4.88660745e-02 8.51616107e-07 8.52265477e-01\n",
            "  3.06481117e-04 9.85019803e-02]\n",
            " [1.59820020e-02 1.36737808e-05 6.77006245e-01 1.15387114e-02\n",
            "  5.41513041e-02 4.64554128e-09 2.32789055e-01 5.11432035e-08\n",
            "  8.51839129e-03 5.28071155e-07]\n",
            " [3.12968410e-07 9.99989152e-01 1.08943055e-09 1.04398387e-05\n",
            "  2.43916389e-08 1.91443840e-11 4.51985720e-08 7.19960217e-16\n",
            "  2.95028252e-10 3.10670218e-13]\n",
            " [1.00148005e-04 6.46745639e-06 8.29926908e-01 2.40887253e-04\n",
            "  8.15972164e-02 1.68060964e-07 8.81244540e-02 3.93426625e-09\n",
            "  2.14109218e-06 1.65468771e-06]\n",
            " [1.70509834e-02 1.95547236e-05 3.76719266e-01 3.36947502e-03\n",
            "  4.16067578e-02 5.14902858e-08 5.53876519e-01 5.55046320e-08\n",
            "  7.34775467e-03 9.62397462e-06]\n",
            " [1.05522959e-04 1.11737961e-08 3.57480883e-03 1.93238208e-07\n",
            "  9.16900873e-01 1.50342199e-14 7.94096291e-02 5.34279618e-14\n",
            "  8.96726942e-06 9.40564571e-11]\n",
            " [1.49849372e-03 3.41310482e-07 6.78313076e-01 1.97538739e-07\n",
            "  1.77581891e-01 4.14934114e-08 1.42604142e-01 4.69921986e-08\n",
            "  8.59402462e-07 9.57427915e-07]\n",
            " [3.85829131e-04 4.61741138e-06 8.19170600e-06 8.86383077e-07\n",
            "  6.28573332e-07 9.96966779e-01 2.86824252e-05 2.56740302e-03\n",
            "  2.97549141e-05 7.24659049e-06]\n",
            " [2.14316169e-04 6.07658066e-08 1.98320940e-05 1.24391931e-06\n",
            "  1.26435793e-06 6.78786805e-08 3.44248465e-03 7.29971283e-09\n",
            "  9.96320724e-01 2.00014316e-08]\n",
            " [1.87334037e-04 5.30241687e-06 9.83392537e-01 1.60150361e-04\n",
            "  1.59742944e-02 1.53309028e-08 2.72547593e-04 5.07117525e-12\n",
            "  7.90206286e-06 4.54963844e-09]\n",
            " [2.40032957e-03 2.30858657e-08 9.55798745e-01 1.40910529e-07\n",
            "  1.20371766e-03 5.63805981e-11 4.05942984e-02 2.94849838e-13\n",
            "  2.77586560e-06 6.11958956e-11]\n",
            " [3.92552195e-08 1.27000299e-10 3.14168460e-08 1.09774212e-11\n",
            "  8.30218205e-09 7.29857375e-09 5.90850334e-07 1.17645371e-09\n",
            "  9.99999285e-01 2.34387731e-10]\n",
            " [2.23997881e-06 3.15679045e-11 1.87014073e-01 7.28780520e-08\n",
            "  6.60234213e-01 9.25833303e-14 1.52749449e-01 6.18333379e-12\n",
            "  4.74255257e-09 5.05902431e-09]\n",
            " [1.28849774e-06 1.99068748e-10 1.52045757e-07 3.27556160e-09\n",
            "  7.27376914e-08 1.60401925e-07 1.15902264e-06 1.55001931e-08\n",
            "  9.99997139e-01 5.32892119e-10]\n",
            " [9.97100174e-01 1.00935574e-06 8.09747598e-06 6.67638324e-06\n",
            "  1.48496127e-07 2.59701571e-09 2.88388692e-03 2.23300138e-13\n",
            "  1.64436944e-08 1.34847089e-09]\n",
            " [2.43837312e-05 1.59234426e-09 1.62543383e-08 1.55757365e-10\n",
            "  1.79840132e-09 6.39636273e-05 1.07726045e-07 9.99790251e-01\n",
            "  4.57894248e-06 1.16688272e-04]\n",
            " [8.34553848e-09 1.25680513e-13 3.58777136e-12 1.31851032e-13\n",
            "  3.12277483e-12 1.07977737e-03 7.06329231e-11 9.98853326e-01\n",
            "  9.94484051e-10 6.69769288e-05]\n",
            " [2.22929404e-04 6.39870867e-09 5.98537281e-06 3.90796259e-07\n",
            "  1.35733660e-06 5.93464174e-05 2.33556716e-06 2.61750538e-04\n",
            "  9.99445856e-01 2.10271107e-08]\n",
            " [1.47893172e-06 3.18410698e-09 3.07079688e-07 3.60136032e-10\n",
            "  1.05861534e-06 9.99483228e-01 2.76039401e-07 4.75868408e-04\n",
            "  6.76336640e-06 3.10024916e-05]\n",
            " [3.79192927e-10 1.00000000e+00 3.67718483e-14 2.64853667e-10\n",
            "  1.47730127e-11 1.38543607e-16 4.25789915e-12 3.84701061e-25\n",
            "  1.28312865e-16 1.47753174e-23]\n",
            " [2.28456543e-07 9.99982715e-01 3.30407701e-09 1.69620271e-05\n",
            "  5.51645094e-08 3.05511305e-09 4.63815475e-08 9.32884141e-14\n",
            "  8.98962987e-11 1.48649132e-13]\n",
            " [3.11254084e-01 2.12016329e-02 5.79437241e-02 1.75041288e-01\n",
            "  3.19208615e-02 2.23711338e-02 3.59060228e-01 6.58109458e-03\n",
            "  8.66077282e-03 5.96520817e-03]\n",
            " [4.72524289e-06 7.98008591e-03 6.45548862e-04 2.95154214e-01\n",
            "  6.95458293e-01 6.95876167e-07 7.14656606e-04 5.88081619e-08\n",
            "  3.80924503e-05 3.63558547e-06]\n",
            " [1.38024079e-05 8.39616132e-06 2.12999612e-06 4.52269946e-04\n",
            "  3.02943749e-06 1.22403388e-03 1.87022727e-06 9.92657721e-01\n",
            "  4.66292659e-05 5.59004536e-03]\n",
            " [2.80261397e-10 1.73437209e-12 1.31368955e-13 1.00974134e-13\n",
            "  4.81001090e-12 1.07750484e-11 9.45865456e-13 1.97934713e-09\n",
            "  1.00000000e+00 4.37120040e-13]\n",
            " [8.05582735e-04 1.64060801e-08 3.51048698e-06 7.53084990e-08\n",
            "  6.62980028e-07 5.50135085e-03 5.14940439e-06 9.91914749e-01\n",
            "  6.97121823e-06 1.76181283e-03]\n",
            " [8.81101310e-01 4.44577454e-04 8.79171494e-05 2.25310586e-03\n",
            "  5.46326419e-07 3.66523061e-08 1.16094157e-01 4.28867526e-13\n",
            "  1.82856511e-05 8.33755180e-08]\n",
            " [8.92694816e-02 2.21892679e-03 8.74627650e-01 3.91103328e-08\n",
            "  1.81000160e-05 1.44042951e-06 3.27786319e-02 1.98697944e-06\n",
            "  1.06913201e-03 1.45423564e-05]\n",
            " [1.56921163e-01 9.67999495e-06 5.59903011e-02 1.20845316e-02\n",
            "  1.84892993e-02 8.56208715e-07 7.40268707e-01 5.75687675e-09\n",
            "  1.62324067e-02 3.08749850e-06]\n",
            " [1.91636104e-06 3.29974313e-07 7.73408473e-01 1.35066307e-06\n",
            "  2.26504162e-01 1.87025083e-11 8.14329251e-05 1.01740600e-15\n",
            "  2.36290839e-06 3.10901860e-10]\n",
            " [6.96905656e-03 2.37519909e-02 3.83356964e-04 9.64773715e-01\n",
            "  1.06037385e-03 7.72425938e-06 3.02585051e-03 6.52376457e-07\n",
            "  2.61109544e-05 1.19891229e-06]\n",
            " [7.08191561e-11 1.00000000e+00 9.19446133e-15 4.01244649e-10\n",
            "  1.36204112e-12 1.63650249e-15 4.60496658e-12 2.21239307e-23\n",
            "  1.55356933e-16 2.94271078e-21]\n",
            " [2.71342346e-04 1.69147571e-10 9.95296419e-01 1.64652235e-07\n",
            "  2.69838655e-03 8.92991684e-16 1.73294870e-03 6.64823389e-17\n",
            "  6.79606785e-07 2.00926331e-10]\n",
            " [1.30140484e-12 7.10106323e-12 2.51928090e-10 1.09294830e-14\n",
            "  2.99068994e-12 2.29710750e-07 3.14821988e-11 1.61698311e-11\n",
            "  9.99999762e-01 2.13950854e-11]\n",
            " [9.26919313e-07 2.02780848e-10 1.64062083e-02 2.96270519e-09\n",
            "  9.74997878e-01 4.52538311e-16 8.59497208e-03 3.84202598e-13\n",
            "  5.42827614e-08 7.42885531e-10]\n",
            " [4.91793209e-04 9.98290002e-01 2.80124605e-05 9.36670986e-04\n",
            "  2.24205171e-04 1.11806555e-08 2.93046105e-05 1.89118703e-11\n",
            "  1.52151625e-08 8.98487274e-12]\n",
            " [6.79017342e-10 4.01497458e-09 2.24598939e-09 2.94879399e-11\n",
            "  1.59068980e-09 1.72399789e-10 9.82998349e-10 7.80236853e-09\n",
            "  1.00000000e+00 4.55203167e-11]\n",
            " [1.28639668e-10 3.56251173e-15 1.25354086e-13 1.23847228e-15\n",
            "  3.13662535e-13 1.00000000e+00 9.71046269e-13 1.10629941e-08\n",
            "  2.36750593e-12 5.33508455e-08]\n",
            " [2.25475915e-13 1.11208851e-15 7.13981078e-17 3.04809761e-15\n",
            "  8.55015770e-17 2.25097931e-08 1.20752395e-16 4.90561506e-05\n",
            "  5.30948111e-17 9.99950886e-01]\n",
            " [1.59723243e-07 1.44392189e-13 9.82049553e-09 1.59884743e-15\n",
            "  4.45100056e-07 9.99998927e-01 3.98831013e-09 4.35107069e-07\n",
            "  3.26411218e-08 3.30618555e-09]\n",
            " [9.95123446e-01 1.89586553e-05 6.96903153e-05 1.84237113e-04\n",
            "  3.94125600e-05 1.87712615e-07 4.55652410e-03 5.38968970e-16\n",
            "  7.57753060e-06 4.69275230e-10]\n",
            " [1.38686532e-02 2.13894006e-02 9.70472684e-06 9.63047743e-01\n",
            "  5.35437039e-06 1.11420623e-10 1.67513383e-03 1.28470554e-14\n",
            "  3.99520559e-06 1.50846502e-09]\n",
            " [7.57742839e-07 9.23823726e-11 9.98618603e-01 1.04024343e-06\n",
            "  1.35226198e-03 2.19821525e-15 2.69265565e-05 1.71127388e-14\n",
            "  3.96037905e-07 5.26037167e-13]\n",
            " [9.97772992e-01 2.16148663e-07 1.80816394e-04 9.75056464e-05\n",
            "  9.42153122e-07 1.88820710e-08 1.94673950e-03 2.36157728e-18\n",
            "  6.78911022e-07 6.98620606e-11]\n",
            " [3.32243256e-02 1.10989922e-05 6.19757473e-01 5.59999444e-06\n",
            "  4.50377958e-03 2.61794959e-08 3.41950178e-01 5.49235601e-10\n",
            "  5.47479605e-04 2.05534239e-08]\n",
            " [1.73857515e-08 1.12136403e-11 3.85924137e-09 3.13237734e-11\n",
            "  8.38811118e-08 9.99976993e-01 1.05949898e-08 2.28946628e-05\n",
            "  3.74518265e-08 1.15930767e-08]\n",
            " [2.69944854e-02 1.19759804e-02 1.39246578e-04 9.49003458e-01\n",
            "  9.24699270e-05 1.89921793e-05 1.07968794e-02 3.25620171e-08\n",
            "  9.75939154e-04 2.51985966e-06]\n",
            " [6.57520141e-05 3.44604594e-08 5.10945879e-02 4.59291005e-05\n",
            "  1.27392754e-01 8.77936124e-13 8.21388602e-01 1.38610141e-12\n",
            "  1.23363998e-05 2.02913486e-09]\n",
            " [1.78712600e-08 1.71872987e-13 1.89295038e-11 2.53323810e-13\n",
            "  1.05678899e-12 1.00618645e-05 1.84078225e-10 9.99989152e-01\n",
            "  3.25778876e-10 7.79640061e-07]\n",
            " [5.76213965e-10 9.99999762e-01 9.85625557e-12 1.93823823e-07\n",
            "  3.28336830e-10 9.88109659e-13 8.10964143e-11 5.93986507e-19\n",
            "  2.30549629e-12 1.40898207e-17]\n",
            " [1.05966494e-04 1.52189685e-07 4.67808830e-04 1.31585409e-07\n",
            "  2.00074373e-05 4.41135217e-06 2.89917830e-03 8.23140113e-07\n",
            "  9.96500492e-01 1.10617611e-06]\n",
            " [6.67202711e-01 2.02112060e-04 1.94575544e-02 2.49647144e-02\n",
            "  1.30760251e-03 4.84646262e-05 2.86486983e-01 1.59891549e-08\n",
            "  3.26406880e-04 3.47225091e-06]\n",
            " [1.12513490e-07 9.99994159e-01 1.17763924e-10 5.60245689e-06\n",
            "  2.69902074e-08 7.21626439e-11 5.71129917e-08 2.54516248e-15\n",
            "  1.04485399e-10 1.98751909e-12]\n",
            " [1.58393709e-03 1.67329631e-06 2.14504212e-01 8.52057186e-04\n",
            "  5.03130138e-01 3.91663156e-13 2.79615402e-01 2.01471964e-11\n",
            "  3.12546152e-04 4.66576076e-08]\n",
            " [1.98054287e-04 6.06803852e-09 8.82223010e-01 1.54034171e-06\n",
            "  1.21724065e-02 1.35306576e-14 1.05405010e-01 1.98620722e-14\n",
            "  4.84687028e-08 6.56806054e-10]]\n"
          ],
          "name": "stdout"
        }
      ]
    },
    {
      "cell_type": "markdown",
      "metadata": {
        "id": "5ycEJUHqYlSe",
        "colab_type": "text"
      },
      "source": [
        "show first prediction"
      ]
    },
    {
      "cell_type": "code",
      "metadata": {
        "id": "5xcrdgaHZDJm",
        "colab_type": "code",
        "colab": {
          "base_uri": "https://localhost:8080/",
          "height": 72
        },
        "outputId": "d357c9f2-ac36-49e8-8c75-5f69704c72ac"
      },
      "source": [
        "prediction[0]"
      ],
      "execution_count": 37,
      "outputs": [
        {
          "output_type": "execute_result",
          "data": {
            "text/plain": [
              "array([8.6529674e-08, 6.6052727e-14, 2.9449870e-10, 2.4366729e-11,\n",
              "       3.5064058e-08, 8.5202417e-05, 1.7447180e-09, 2.1164373e-03,\n",
              "       5.9032850e-09, 9.9779832e-01], dtype=float32)"
            ]
          },
          "metadata": {
            "tags": []
          },
          "execution_count": 37
        }
      ]
    },
    {
      "cell_type": "code",
      "metadata": {
        "id": "95K2_REMZH_X",
        "colab_type": "code",
        "colab": {
          "base_uri": "https://localhost:8080/",
          "height": 35
        },
        "outputId": "92149759-3818-40f9-f7ec-7ca3354366b2"
      },
      "source": [
        "np.argmax(prediction[0])"
      ],
      "execution_count": 38,
      "outputs": [
        {
          "output_type": "execute_result",
          "data": {
            "text/plain": [
              "9"
            ]
          },
          "metadata": {
            "tags": []
          },
          "execution_count": 38
        }
      ]
    },
    {
      "cell_type": "code",
      "metadata": {
        "id": "1PWbvOyBZOFJ",
        "colab_type": "code",
        "colab": {
          "base_uri": "https://localhost:8080/",
          "height": 279
        },
        "outputId": "fc83512c-dbb8-4b07-f5b9-c32dbaf9e267"
      },
      "source": [
        "plt.figure()\n",
        "plt.imshow(test_img[0],cmap=plt.cm.binary)\n",
        "plt.xlabel(class_names[np.argmax(prediction[0])])\n",
        "plt.show()"
      ],
      "execution_count": 39,
      "outputs": [
        {
          "output_type": "display_data",
          "data": {
            "image/png": "[encoded data removed]",
            "text/plain": [
              "<Figure size 432x288 with 1 Axes>"
            ]
          },
          "metadata": {
            "tags": []
          }
        }
      ]
    },
    {
      "cell_type": "code",
      "metadata": {
        "id": "oLD7yo28mJzb",
        "colab_type": "code",
        "colab": {}
      },
      "source": [
        "def plot_image_fun(i,prediction_array,true_label,img,classes_name):\n",
        "    plt.figure(figsize=(10,5))\n",
        "    plt.grid(False)\n",
        "    colors_val = []\n",
        "    for i in range(10):\n",
        "      if i == true_label:\n",
        "        colors_val.append('blue')\n",
        "      else:\n",
        "        colors_val.append('gray')\n",
        "    y_pos = np.arange(len(prediction_array))\n",
        "    plt.subplot(1,2,1)\n",
        "    plt.imshow(img,cmap = plt.cm.binary)\n",
        "    plt.xlabel(classes_name[true_label])\n",
        "    plt.subplot(1,2,2)\n",
        "    plt.bar(y_pos, prediction_array, color=colors_val)\n",
        "    plt.xticks(y_pos,classes_name,rotation = 45)\n",
        "    # pridiction_label = np.argmex(prediction_array)\n",
        "    plt.show()"
      ],
      "execution_count": 0,
      "outputs": []
    },
    {
      "cell_type": "code",
      "metadata": {
        "id": "aPf0fs1ivC3e",
        "colab_type": "code",
        "colab": {
          "base_uri": "https://localhost:8080/",
          "height": 390
        },
        "outputId": "28f4bba1-d9f0-4959-a84b-a9c648fdfe19"
      },
      "source": [
        "index_plot = 20\n",
        "img = np.expand_dims(test_img[index_plot],0)\n",
        "prediction = model.predict(img)\n",
        "plot_image_fun(index_plot,prediction[0],test_labels[index_plot],test_img[index_plot],class_names)"
      ],
      "execution_count": 71,
      "outputs": [
        {
          "output_type": "stream",
          "text": [
            "[4.3022390e-02 2.0213628e-02 8.7653816e-01 2.5181814e-06 3.7931036e-02\n",
            " 1.3896529e-07 2.2126010e-02 8.4209582e-08 1.6592165e-04 1.6118503e-07]\n"
          ],
          "name": "stdout"
        },
        {
          "output_type": "display_data",
          "data": {
            "image/png": "[encoded data removed]",
            "text/plain": [
              "<Figure size 720x360 with 2 Axes>"
            ]
          },
          "metadata": {
            "tags": []
          }
        }
      ]
    },
    {
      "cell_type": "markdown",
      "metadata": {
        "id": "g7XOeaQrvG-l",
        "colab_type": "text"
      },
      "source": [
        "True Prediction"
      ]
    },
    {
      "cell_type": "code",
      "metadata": {
        "id": "fiQoeq6Ari9H",
        "colab_type": "code",
        "colab": {
          "base_uri": "https://localhost:8080/",
          "height": 354
        },
        "outputId": "c25ea90c-9882-47c2-9334-626750a652d8"
      },
      "source": [
        "index_plot = 12\n",
        "img = np.expand_dims(test_img[index_plot],0)\n",
        "prediction = model.predict(img)\n",
        "plot_image_fun(index_plot,prediction[0],test_labels[index_plot],test_img[index_plot],class_names)"
      ],
      "execution_count": 72,
      "outputs": [
        {
          "output_type": "display_data",
          "data": {
            "image/png": "[encoded data removed]",
            "text/plain": [
              "<Figure size 720x360 with 2 Axes>"
            ]
          },
          "metadata": {
            "tags": []
          }
        }
      ]
    },
    {
      "cell_type": "markdown",
      "metadata": {
        "id": "Xjz-WPEzvLDD",
        "colab_type": "text"
      },
      "source": [
        "false prediction"
      ]
    },
    {
      "cell_type": "code",
      "metadata": {
        "id": "6sRg8jzRvfrq",
        "colab_type": "code",
        "colab": {}
      },
      "source": [
        ""
      ],
      "execution_count": 0,
      "outputs": []
    }
  ]
}